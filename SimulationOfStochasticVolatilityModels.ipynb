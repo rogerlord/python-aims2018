{
 "cells": [
  {
   "cell_type": "code",
   "execution_count": 1,
   "metadata": {
    "collapsed": true
   },
   "outputs": [],
   "source": [
    "import numpy as np\n",
    "import numpy.polynomial.legendre as leg\n",
    "import scipy as sc\n",
    "from scipy.stats import norm\n",
    "from scipy import optimize as op\n",
    "import math\n",
    "import cmath\n",
    "import matplotlib.pyplot as plt\n",
    "import pandas as pd"
   ]
  },
  {
   "cell_type": "markdown",
   "metadata": {},
   "source": [
    "# Simulation of stochastic volatility models"
   ]
  },
  {
   "cell_type": "markdown",
   "metadata": {},
   "source": [
    "This notebook is a companion to the lecture given as part of the 11th Summer School in Mathematical Finance on the 21st of February 2018 at the African Insitute for Mathematical Sciences. In several exercises in this notebook you will learn the pitfalls of simulating stochastic volatility models, using basic Euler schemes."
   ]
  },
  {
   "cell_type": "markdown",
   "metadata": {},
   "source": [
    "## Black-Scholes model"
   ]
  },
  {
   "cell_type": "markdown",
   "metadata": {},
   "source": [
    "Before starting out with stochastic volatility models, we will introduce some basic routines that can be used for simulation. We will focus here on the Black-Scholes model, for which we obviously have a closed-form solution. The closed-form (forward, i.e. undiscounted) option price is implemented as forward_opt below."
   ]
  },
  {
   "cell_type": "code",
   "execution_count": 2,
   "metadata": {
    "collapsed": true
   },
   "outputs": [],
   "source": [
    "class BlackScholes:\n",
    "    def __init__(self, mu, vol):\n",
    "        self.mu = mu\n",
    "        self.vol = vol\n",
    "\n",
    "    def forward_opt(self, forward, strike, maturity):\n",
    "        d1 = (math.log(forward / strike) + 0.5 * self.vol * self.vol * maturity) / (self.vol * math.sqrt(maturity))\n",
    "        d2 = d1 - self.vol * math.sqrt(maturity)\n",
    "        nd1 = norm.cdf(d1)\n",
    "        nd2 = norm.cdf(d2)\n",
    "        return forward * nd1 - strike * nd2\n",
    "        \n",
    "    def _simulate_increment(self, dt, randn):\n",
    "        return (self.mu - 0.5 * self.vol * self.vol) * dt + self.vol * math.sqrt(dt) * randn\n",
    "    \n",
    "    def simulate_stock(self, spot, maturity, num_steps):\n",
    "        dt = maturity / num_steps\n",
    "        increment = sum(map(lambda x: self._simulate_increment(dt, sc.randn()), range(num_steps)))\n",
    "        return spot * math.exp(increment)"
   ]
  },
  {
   "cell_type": "markdown",
   "metadata": {},
   "source": [
    "The next routine prices a call option, taking the model (so far we only have Black-Scholes available), strike, maturity, number of steps and the number of paths as input. It will output the sample mean and the standard deviation of the sample mean."
   ]
  },
  {
   "cell_type": "code",
   "execution_count": 3,
   "metadata": {
    "collapsed": true
   },
   "outputs": [],
   "source": [
    "def price_call_option(model, spot, strike, maturity, num_steps, num_paths):\n",
    "    realisations = list(map(lambda x: max(model.simulate_stock(spot, maturity, num_steps) - strike, 0.0),\n",
    "                            range(num_paths)))\n",
    "    return np.average(realisations), 1.0 / math.sqrt(num_paths) * np.std(realisations)"
   ]
  },
  {
   "cell_type": "markdown",
   "metadata": {},
   "source": [
    "**Q:** Please test that this works well for the Black-Scholes model, using the closed-form solution."
   ]
  },
  {
   "cell_type": "markdown",
   "metadata": {},
   "source": [
    "## Heston model"
   ]
  },
  {
   "cell_type": "markdown",
   "metadata": {},
   "source": [
    "In the same structure as above we have added a very basic class for simulating the Heston model.\n",
    "The equations for the Heston model are the following:\n",
    "\n",
    "$$S(t)=\\mu S(t) dt + \\sqrt{V(t)} S(t) dW_S(t)$$\n",
    "$$V(t)=-\\kappa (V(t) - \\theta) dt + \\omega \\sqrt{V(t)} dW_V(t)$$"
   ]
  },
  {
   "cell_type": "code",
   "execution_count": 4,
   "metadata": {
    "collapsed": true
   },
   "outputs": [],
   "source": [
    "class Heston:\n",
    "    def __init__(self, mu, kappa, theta, omega, rho, initial_variance):\n",
    "        self.mu = mu\n",
    "        self.kappa = kappa\n",
    "        self.theta = theta\n",
    "        self.omega = omega\n",
    "        self.rho = rho\n",
    "        self.initial_variance = initial_variance\n",
    "    \n",
    "    def _simulate_variance_next_step(self, var_prev, dt, randn):\n",
    "        tmp = self.kappa * dt\n",
    "        variance = (1.0 - tmp) * var_prev + tmp * self.theta + self.omega * math.sqrt(var_prev * dt) * randn\n",
    "        return variance\n",
    "    \n",
    "    def _simulate_log_asset_next_step(self, log_asset_prev, var_prev, dt, randn):\n",
    "        increment = (self.mu - 0.5 * var_prev) * dt + math.sqrt(var_prev * dt) * randn\n",
    "        return log_asset_prev + increment\n",
    "    \n",
    "    def simulate_stock(self, spot, maturity, num_steps):\n",
    "        dt = maturity / num_steps\n",
    "        var_prev = self.initial_variance\n",
    "        log_asset_prev = math.log(spot)\n",
    "        for i in range(num_steps):\n",
    "            randn_vol = sc.randn()\n",
    "            randn_spot = self.rho * randn_vol + math.sqrt(1.0 - self.rho * self.rho) * sc.randn()\n",
    "            var_next = self._simulate_variance_next_step(var_prev, dt, randn_vol)\n",
    "            log_asset_next = self._simulate_log_asset_next_step(log_asset_prev, var_prev, dt, randn_spot)\n",
    "            log_asset_prev = log_asset_next\n",
    "            var_prev = var_next\n",
    "        return math.exp(log_asset_next)      "
   ]
  },
  {
   "cell_type": "markdown",
   "metadata": {},
   "source": [
    "The class follows the same structure as the Black-Scholes class, it has a simulate_stock method which produces the value of the stock at maturity. Therefore we can use this class in the price_call_option function we defined earlier."
   ]
  },
  {
   "cell_type": "markdown",
   "metadata": {},
   "source": [
    "**Q:** First of all please test that the above implementation reproduces the results for the Black-Scholes model."
   ]
  },
  {
   "cell_type": "markdown",
   "metadata": {},
   "source": [
    "**Q:** Second of all, start working on the following example:\n",
    "\n",
    "$$\\kappa = 2, \\omega = 1, \\rho = -0.3, \\theta = 0.09, V(0) = 0.09$$\n",
    "\n",
    "and price a 5y call option struck at 100, where the initial spot is 100 and the drift is 5% per year. Does the above implementation work for this example? Why not?\n",
    "Can you measure in what percentage of the paths there is a problem?"
   ]
  },
  {
   "cell_type": "markdown",
   "metadata": {},
   "source": [
    "**Q:** Please adapt the implementation to get it to work - you can use one of the schemes initially considered in the slides - i.e. absorption or reflection. The benchmark price for this option is 44.94063."
   ]
  },
  {
   "cell_type": "markdown",
   "metadata": {},
   "source": [
    "**Q:** Once you have got it to work - try to adapt your implementation to use the full truncation scheme and compare it to the scheme you used previously. How does it perform in comparison?"
   ]
  },
  {
   "cell_type": "markdown",
   "metadata": {},
   "source": [
    "**Q:** Can you measure the \"leaking correlation\" problem in this Euler discretisation? How far is the correlation between the log-asset increment and the variance increment from what it should be?"
   ]
  }
 ],
 "metadata": {
  "kernelspec": {
   "display_name": "Python 3",
   "language": "python",
   "name": "python3"
  },
  "language_info": {
   "codemirror_mode": {
    "name": "ipython",
    "version": 3
   },
   "file_extension": ".py",
   "mimetype": "text/x-python",
   "name": "python",
   "nbconvert_exporter": "python",
   "pygments_lexer": "ipython3",
   "version": "3.6.3"
  }
 },
 "nbformat": 4,
 "nbformat_minor": 2
}
