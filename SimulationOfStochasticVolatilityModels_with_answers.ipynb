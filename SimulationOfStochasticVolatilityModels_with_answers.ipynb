{
 "cells": [
  {
   "cell_type": "code",
   "execution_count": 79,
   "metadata": {
    "collapsed": true
   },
   "outputs": [],
   "source": [
    "import numpy as np\n",
    "import numpy.polynomial.legendre as leg\n",
    "import scipy as sc\n",
    "from scipy.stats import norm\n",
    "from scipy import optimize as op\n",
    "import math\n",
    "import cmath\n",
    "import matplotlib.pyplot as plt"
   ]
  },
  {
   "cell_type": "markdown",
   "metadata": {},
   "source": [
    "# Simulation of stochastic volatility models"
   ]
  },
  {
   "cell_type": "markdown",
   "metadata": {},
   "source": [
    "This notebook is a companion to the lecture given as part of the 11th Summer School in Mathematical Finance on the 21st of February 2018 at the African Insitute for Mathematical Sciences. In several exercises in this notebook you will learn the pitfalls of simulating stochastic volatility models, using basic Euler schemes."
   ]
  },
  {
   "cell_type": "markdown",
   "metadata": {},
   "source": [
    "## Black-Scholes model"
   ]
  },
  {
   "cell_type": "markdown",
   "metadata": {},
   "source": [
    "Before starting out with stochastic volatility models, we will introduce some basic routines that can be used for simulation. We will focus here on the Black-Scholes model, for which we obviously have a closed-form solution. The closed-form (forward, i.e. undiscounted) option price is implemented as forward_opt below."
   ]
  },
  {
   "cell_type": "code",
   "execution_count": 3,
   "metadata": {
    "collapsed": true
   },
   "outputs": [],
   "source": [
    "class BlackScholes:\n",
    "    def __init__(self, mu, vol):\n",
    "        self.mu = mu\n",
    "        self.vol = vol\n",
    "\n",
    "    def forward_opt(self, forward, strike, maturity):\n",
    "        d1 = (math.log(forward / strike) + 0.5 * self.vol * self.vol * maturity) / (self.vol * math.sqrt(maturity))\n",
    "        d2 = d1 - self.vol * math.sqrt(maturity)\n",
    "        nd1 = norm.cdf(d1)\n",
    "        nd2 = norm.cdf(d2)\n",
    "        return forward * nd1 - strike * nd2\n",
    "        \n",
    "    def _simulate_increment(self, dt, randn):\n",
    "        return (self.mu - 0.5 * self.vol * self.vol) * dt + self.vol * math.sqrt(dt) * randn\n",
    "    \n",
    "    def simulate_stock(self, spot, maturity, num_steps):\n",
    "        dt = maturity / num_steps\n",
    "        increment = sum(map(lambda x: self._simulate_increment(dt, sc.randn()), range(num_steps)))\n",
    "        return spot * math.exp(increment)"
   ]
  },
  {
   "cell_type": "markdown",
   "metadata": {},
   "source": [
    "The next routine prices a call option, taking the model (so far we only have Black-Scholes available), strike, maturity, number of steps and the number of paths as input. It will output the sample mean and the standard deviation of the sample mean."
   ]
  },
  {
   "cell_type": "code",
   "execution_count": 4,
   "metadata": {
    "collapsed": true
   },
   "outputs": [],
   "source": [
    "def price_call_option(model, spot, strike, maturity, num_steps, num_paths):\n",
    "    realisations = list(map(lambda x: max(model.simulate_stock(spot, maturity, num_steps) - strike, 0.0),\n",
    "                            range(num_paths)))\n",
    "    return np.average(realisations), 1.0 / math.sqrt(num_paths) * np.std(realisations)"
   ]
  },
  {
   "cell_type": "markdown",
   "metadata": {},
   "source": [
    "**Q:** Please test that this works well for the Black-Scholes model, using the closed-form solution."
   ]
  },
  {
   "cell_type": "markdown",
   "metadata": {},
   "source": [
    "**A:** we can test this using the following configuration of the Black-Scholes model:"
   ]
  },
  {
   "cell_type": "code",
   "execution_count": 5,
   "metadata": {
    "collapsed": true
   },
   "outputs": [],
   "source": [
    "bs = BlackScholes(0.0, 0.2)"
   ]
  },
  {
   "cell_type": "markdown",
   "metadata": {},
   "source": [
    "Simulation gives the following price + standard deviation of the estimate, for a call, struck at 100.0, maturing in 5 years time:"
   ]
  },
  {
   "cell_type": "code",
   "execution_count": 6,
   "metadata": {},
   "outputs": [
    {
     "data": {
      "text/plain": [
       "(17.847331702749521, 0.10950601003033374)"
      ]
     },
     "execution_count": 6,
     "metadata": {},
     "output_type": "execute_result"
    }
   ],
   "source": [
    "price_call_option(model=bs, spot = 100.0, strike=100.0, maturity=5.0, num_steps=1, num_paths=100000)"
   ]
  },
  {
   "cell_type": "markdown",
   "metadata": {},
   "source": [
    "whereas the closed-form solution is (using a forward equal to the spot, as we chose $\\mu$ to be zero):"
   ]
  },
  {
   "cell_type": "code",
   "execution_count": 7,
   "metadata": {},
   "outputs": [
    {
     "data": {
      "text/plain": [
       "17.693672624187855"
      ]
     },
     "execution_count": 7,
     "metadata": {},
     "output_type": "execute_result"
    }
   ],
   "source": [
    "bs.forward_opt(forward=100.0, strike=100.0, maturity=5.0)"
   ]
  },
  {
   "cell_type": "markdown",
   "metadata": {},
   "source": [
    "Note that we only used one timestep in the simulation, as there is no discretisation error in how we simulate the Black-Scholes model. It is good to check whether the closed-form solution is in the 95% c.i. of the option price estimate."
   ]
  },
  {
   "cell_type": "markdown",
   "metadata": {},
   "source": [
    "## Heston model"
   ]
  },
  {
   "cell_type": "markdown",
   "metadata": {},
   "source": [
    "In the same structure as above we have added a very basic class for simulating the Heston model.\n",
    "The equations for the Heston model are the following:\n",
    "\n",
    "$$S(t)=\\mu S(t) dt + \\sqrt{V(t)} S(t) dW_S(t)$$\n",
    "$$V(t)=-\\kappa (V(t) - \\theta) dt + \\omega \\sqrt{V(t)} dW_V(t)$$"
   ]
  },
  {
   "cell_type": "code",
   "execution_count": 8,
   "metadata": {
    "collapsed": true
   },
   "outputs": [],
   "source": [
    "class Heston:\n",
    "    def __init__(self, mu, kappa, theta, omega, rho, initial_variance):\n",
    "        self.mu = mu\n",
    "        self.kappa = kappa\n",
    "        self.theta = theta\n",
    "        self.omega = omega\n",
    "        self.rho = rho\n",
    "        self.initial_variance = initial_variance\n",
    "    \n",
    "    def _simulate_variance_next_step(self, var_prev, dt, randn):\n",
    "        tmp = self.kappa * dt\n",
    "        variance = (1.0 - tmp) * var_prev + tmp * self.theta + self.omega * math.sqrt(var_prev * dt) * randn\n",
    "        return variance\n",
    "    \n",
    "    def _simulate_log_asset_next_step(self, log_asset_prev, var_prev, dt, randn):\n",
    "        increment = (self.mu - 0.5 * var_prev) * dt + math.sqrt(var_prev * dt) * randn\n",
    "        return log_asset_prev + increment\n",
    "    \n",
    "    def simulate_stock(self, spot, maturity, num_steps):\n",
    "        dt = maturity / num_steps\n",
    "        var_prev = self.initial_variance\n",
    "        log_asset_prev = math.log(spot)\n",
    "        for i in range(num_steps):\n",
    "            randn_vol = sc.randn()\n",
    "            randn_spot = self.rho * randn_vol + math.sqrt(1.0 - self.rho * self.rho) * sc.randn()\n",
    "            var_next = self._simulate_variance_next_step(var_prev, dt, randn_vol)\n",
    "            log_asset_next = self._simulate_log_asset_next_step(log_asset_prev, var_prev, dt, randn_spot)\n",
    "            log_asset_prev = log_asset_next\n",
    "            var_prev = var_next\n",
    "        return math.exp(log_asset_next)      "
   ]
  },
  {
   "cell_type": "markdown",
   "metadata": {},
   "source": [
    "The class follows the same structure as the Black-Scholes class, it has a simulate_stock method which produces the value of the stock at maturity. Therefore we can use this class in the price_call_option function we defined earlier."
   ]
  },
  {
   "cell_type": "markdown",
   "metadata": {},
   "source": [
    "**Q:** First of all please test that the above implementation reproduces the results for the Black-Scholes model."
   ]
  },
  {
   "cell_type": "markdown",
   "metadata": {},
   "source": [
    "**A:** When setting $\\kappa = 0, \\omega = 0, V(0) = \\sigma^2$, we have reduced the Heston model to the Black-Scholes model. Therefore we can test if the same call option, priced in this model, has the same value as we obtained before."
   ]
  },
  {
   "cell_type": "code",
   "execution_count": 9,
   "metadata": {
    "collapsed": true
   },
   "outputs": [],
   "source": [
    "heston_special_case = Heston(mu=0.0, kappa=0.0, omega=0.0, rho=0.0, theta=0.0, initial_variance=0.2*0.2)"
   ]
  },
  {
   "cell_type": "code",
   "execution_count": 10,
   "metadata": {},
   "outputs": [
    {
     "data": {
      "text/plain": [
       "(17.617437792772058, 0.108374817593249)"
      ]
     },
     "execution_count": 10,
     "metadata": {},
     "output_type": "execute_result"
    }
   ],
   "source": [
    "price_call_option(model=heston_special_case, spot=100.0, strike=100.0, maturity=5.0, num_steps=1, num_paths=100000)"
   ]
  },
  {
   "cell_type": "markdown",
   "metadata": {},
   "source": [
    "**Q:** Second of all, start working on the following example:\n",
    "\n",
    "$$\\kappa = 2, \\omega = 1, \\rho = -0.3, \\theta = 0.09, V(0) = 0.09$$\n",
    "\n",
    "and price a 5y call option struck at 100, where the initial spot is 100 and the drift is 5% per year. Does the above implementation work for this example? Why not?\n",
    "Can you measure in what percentage of the paths there is a problem?"
   ]
  },
  {
   "cell_type": "markdown",
   "metadata": {},
   "source": [
    "**A:** To test this, we need to define the Heston model. The code for this was already given below:"
   ]
  },
  {
   "cell_type": "code",
   "execution_count": 11,
   "metadata": {
    "collapsed": true
   },
   "outputs": [],
   "source": [
    "heston = Heston(mu=0.05, kappa=2.0, omega=1.0, rho=-0.3, theta=0.09, initial_variance=0.09)"
   ]
  },
  {
   "cell_type": "markdown",
   "metadata": {},
   "source": [
    "Thereafter we will try to price the requested option, using the price_call_option function:"
   ]
  },
  {
   "cell_type": "code",
   "execution_count": 12,
   "metadata": {},
   "outputs": [
    {
     "ename": "ValueError",
     "evalue": "math domain error",
     "output_type": "error",
     "traceback": [
      "\u001b[1;31m---------------------------------------------------------------------------\u001b[0m",
      "\u001b[1;31mValueError\u001b[0m                                Traceback (most recent call last)",
      "\u001b[1;32m<ipython-input-12-34970f3819e8>\u001b[0m in \u001b[0;36m<module>\u001b[1;34m()\u001b[0m\n\u001b[1;32m----> 1\u001b[1;33m \u001b[0mprice_call_option\u001b[0m\u001b[1;33m(\u001b[0m\u001b[0mheston\u001b[0m\u001b[1;33m,\u001b[0m \u001b[0mspot\u001b[0m\u001b[1;33m=\u001b[0m\u001b[1;36m100.0\u001b[0m\u001b[1;33m,\u001b[0m \u001b[0mstrike\u001b[0m\u001b[1;33m=\u001b[0m\u001b[1;36m100.0\u001b[0m\u001b[1;33m,\u001b[0m \u001b[0mmaturity\u001b[0m\u001b[1;33m=\u001b[0m\u001b[1;36m5.0\u001b[0m\u001b[1;33m,\u001b[0m \u001b[0mnum_steps\u001b[0m\u001b[1;33m=\u001b[0m\u001b[1;36m10\u001b[0m\u001b[1;33m,\u001b[0m \u001b[0mnum_paths\u001b[0m\u001b[1;33m=\u001b[0m\u001b[1;36m10000\u001b[0m\u001b[1;33m)\u001b[0m\u001b[1;33m\u001b[0m\u001b[0m\n\u001b[0m",
      "\u001b[1;32m<ipython-input-4-e00307d526ba>\u001b[0m in \u001b[0;36mprice_call_option\u001b[1;34m(model, spot, strike, maturity, num_steps, num_paths)\u001b[0m\n\u001b[0;32m      1\u001b[0m \u001b[1;32mdef\u001b[0m \u001b[0mprice_call_option\u001b[0m\u001b[1;33m(\u001b[0m\u001b[0mmodel\u001b[0m\u001b[1;33m,\u001b[0m \u001b[0mspot\u001b[0m\u001b[1;33m,\u001b[0m \u001b[0mstrike\u001b[0m\u001b[1;33m,\u001b[0m \u001b[0mmaturity\u001b[0m\u001b[1;33m,\u001b[0m \u001b[0mnum_steps\u001b[0m\u001b[1;33m,\u001b[0m \u001b[0mnum_paths\u001b[0m\u001b[1;33m)\u001b[0m\u001b[1;33m:\u001b[0m\u001b[1;33m\u001b[0m\u001b[0m\n\u001b[0;32m      2\u001b[0m     realisations = list(map(lambda x: max(model.simulate_stock(spot, maturity, num_steps) - strike, 0.0),\n\u001b[1;32m----> 3\u001b[1;33m                             range(num_paths)))\n\u001b[0m\u001b[0;32m      4\u001b[0m     \u001b[1;32mreturn\u001b[0m \u001b[0mnp\u001b[0m\u001b[1;33m.\u001b[0m\u001b[0maverage\u001b[0m\u001b[1;33m(\u001b[0m\u001b[0mrealisations\u001b[0m\u001b[1;33m)\u001b[0m\u001b[1;33m,\u001b[0m \u001b[1;36m1.0\u001b[0m \u001b[1;33m/\u001b[0m \u001b[0mmath\u001b[0m\u001b[1;33m.\u001b[0m\u001b[0msqrt\u001b[0m\u001b[1;33m(\u001b[0m\u001b[0mnum_paths\u001b[0m\u001b[1;33m)\u001b[0m \u001b[1;33m*\u001b[0m \u001b[0mnp\u001b[0m\u001b[1;33m.\u001b[0m\u001b[0mstd\u001b[0m\u001b[1;33m(\u001b[0m\u001b[0mrealisations\u001b[0m\u001b[1;33m)\u001b[0m\u001b[1;33m\u001b[0m\u001b[0m\n",
      "\u001b[1;32m<ipython-input-4-e00307d526ba>\u001b[0m in \u001b[0;36m<lambda>\u001b[1;34m(x)\u001b[0m\n\u001b[0;32m      1\u001b[0m \u001b[1;32mdef\u001b[0m \u001b[0mprice_call_option\u001b[0m\u001b[1;33m(\u001b[0m\u001b[0mmodel\u001b[0m\u001b[1;33m,\u001b[0m \u001b[0mspot\u001b[0m\u001b[1;33m,\u001b[0m \u001b[0mstrike\u001b[0m\u001b[1;33m,\u001b[0m \u001b[0mmaturity\u001b[0m\u001b[1;33m,\u001b[0m \u001b[0mnum_steps\u001b[0m\u001b[1;33m,\u001b[0m \u001b[0mnum_paths\u001b[0m\u001b[1;33m)\u001b[0m\u001b[1;33m:\u001b[0m\u001b[1;33m\u001b[0m\u001b[0m\n\u001b[1;32m----> 2\u001b[1;33m     realisations = list(map(lambda x: max(model.simulate_stock(spot, maturity, num_steps) - strike, 0.0),\n\u001b[0m\u001b[0;32m      3\u001b[0m                             range(num_paths)))\n\u001b[0;32m      4\u001b[0m     \u001b[1;32mreturn\u001b[0m \u001b[0mnp\u001b[0m\u001b[1;33m.\u001b[0m\u001b[0maverage\u001b[0m\u001b[1;33m(\u001b[0m\u001b[0mrealisations\u001b[0m\u001b[1;33m)\u001b[0m\u001b[1;33m,\u001b[0m \u001b[1;36m1.0\u001b[0m \u001b[1;33m/\u001b[0m \u001b[0mmath\u001b[0m\u001b[1;33m.\u001b[0m\u001b[0msqrt\u001b[0m\u001b[1;33m(\u001b[0m\u001b[0mnum_paths\u001b[0m\u001b[1;33m)\u001b[0m \u001b[1;33m*\u001b[0m \u001b[0mnp\u001b[0m\u001b[1;33m.\u001b[0m\u001b[0mstd\u001b[0m\u001b[1;33m(\u001b[0m\u001b[0mrealisations\u001b[0m\u001b[1;33m)\u001b[0m\u001b[1;33m\u001b[0m\u001b[0m\n",
      "\u001b[1;32m<ipython-input-8-19ae1dba89bd>\u001b[0m in \u001b[0;36msimulate_stock\u001b[1;34m(self, spot, maturity, num_steps)\u001b[0m\n\u001b[0;32m     24\u001b[0m             \u001b[0mrandn_vol\u001b[0m \u001b[1;33m=\u001b[0m \u001b[0msc\u001b[0m\u001b[1;33m.\u001b[0m\u001b[0mrandn\u001b[0m\u001b[1;33m(\u001b[0m\u001b[1;33m)\u001b[0m\u001b[1;33m\u001b[0m\u001b[0m\n\u001b[0;32m     25\u001b[0m             \u001b[0mrandn_spot\u001b[0m \u001b[1;33m=\u001b[0m \u001b[0mself\u001b[0m\u001b[1;33m.\u001b[0m\u001b[0mrho\u001b[0m \u001b[1;33m*\u001b[0m \u001b[0mrandn_vol\u001b[0m \u001b[1;33m+\u001b[0m \u001b[0mmath\u001b[0m\u001b[1;33m.\u001b[0m\u001b[0msqrt\u001b[0m\u001b[1;33m(\u001b[0m\u001b[1;36m1.0\u001b[0m \u001b[1;33m-\u001b[0m \u001b[0mself\u001b[0m\u001b[1;33m.\u001b[0m\u001b[0mrho\u001b[0m \u001b[1;33m*\u001b[0m \u001b[0mself\u001b[0m\u001b[1;33m.\u001b[0m\u001b[0mrho\u001b[0m\u001b[1;33m)\u001b[0m \u001b[1;33m*\u001b[0m \u001b[0msc\u001b[0m\u001b[1;33m.\u001b[0m\u001b[0mrandn\u001b[0m\u001b[1;33m(\u001b[0m\u001b[1;33m)\u001b[0m\u001b[1;33m\u001b[0m\u001b[0m\n\u001b[1;32m---> 26\u001b[1;33m             \u001b[0mvar_next\u001b[0m \u001b[1;33m=\u001b[0m \u001b[0mself\u001b[0m\u001b[1;33m.\u001b[0m\u001b[0m_simulate_variance_next_step\u001b[0m\u001b[1;33m(\u001b[0m\u001b[0mvar_prev\u001b[0m\u001b[1;33m,\u001b[0m \u001b[0mdt\u001b[0m\u001b[1;33m,\u001b[0m \u001b[0mrandn_vol\u001b[0m\u001b[1;33m)\u001b[0m\u001b[1;33m\u001b[0m\u001b[0m\n\u001b[0m\u001b[0;32m     27\u001b[0m             \u001b[0mlog_asset_next\u001b[0m \u001b[1;33m=\u001b[0m \u001b[0mself\u001b[0m\u001b[1;33m.\u001b[0m\u001b[0m_simulate_log_asset_next_step\u001b[0m\u001b[1;33m(\u001b[0m\u001b[0mlog_asset_prev\u001b[0m\u001b[1;33m,\u001b[0m \u001b[0mvar_prev\u001b[0m\u001b[1;33m,\u001b[0m \u001b[0mdt\u001b[0m\u001b[1;33m,\u001b[0m \u001b[0mrandn_spot\u001b[0m\u001b[1;33m)\u001b[0m\u001b[1;33m\u001b[0m\u001b[0m\n\u001b[0;32m     28\u001b[0m             \u001b[0mlog_asset_prev\u001b[0m \u001b[1;33m=\u001b[0m \u001b[0mlog_asset_next\u001b[0m\u001b[1;33m\u001b[0m\u001b[0m\n",
      "\u001b[1;32m<ipython-input-8-19ae1dba89bd>\u001b[0m in \u001b[0;36m_simulate_variance_next_step\u001b[1;34m(self, var_prev, dt, randn)\u001b[0m\n\u001b[0;32m     10\u001b[0m     \u001b[1;32mdef\u001b[0m \u001b[0m_simulate_variance_next_step\u001b[0m\u001b[1;33m(\u001b[0m\u001b[0mself\u001b[0m\u001b[1;33m,\u001b[0m \u001b[0mvar_prev\u001b[0m\u001b[1;33m,\u001b[0m \u001b[0mdt\u001b[0m\u001b[1;33m,\u001b[0m \u001b[0mrandn\u001b[0m\u001b[1;33m)\u001b[0m\u001b[1;33m:\u001b[0m\u001b[1;33m\u001b[0m\u001b[0m\n\u001b[0;32m     11\u001b[0m         \u001b[0mtmp\u001b[0m \u001b[1;33m=\u001b[0m \u001b[0mself\u001b[0m\u001b[1;33m.\u001b[0m\u001b[0mkappa\u001b[0m \u001b[1;33m*\u001b[0m \u001b[0mdt\u001b[0m\u001b[1;33m\u001b[0m\u001b[0m\n\u001b[1;32m---> 12\u001b[1;33m         \u001b[0mvariance\u001b[0m \u001b[1;33m=\u001b[0m \u001b[1;33m(\u001b[0m\u001b[1;36m1.0\u001b[0m \u001b[1;33m-\u001b[0m \u001b[0mtmp\u001b[0m\u001b[1;33m)\u001b[0m \u001b[1;33m*\u001b[0m \u001b[0mvar_prev\u001b[0m \u001b[1;33m+\u001b[0m \u001b[0mtmp\u001b[0m \u001b[1;33m*\u001b[0m \u001b[0mself\u001b[0m\u001b[1;33m.\u001b[0m\u001b[0mtheta\u001b[0m \u001b[1;33m+\u001b[0m \u001b[0mself\u001b[0m\u001b[1;33m.\u001b[0m\u001b[0momega\u001b[0m \u001b[1;33m*\u001b[0m \u001b[0mmath\u001b[0m\u001b[1;33m.\u001b[0m\u001b[0msqrt\u001b[0m\u001b[1;33m(\u001b[0m\u001b[0mvar_prev\u001b[0m \u001b[1;33m*\u001b[0m \u001b[0mdt\u001b[0m\u001b[1;33m)\u001b[0m \u001b[1;33m*\u001b[0m \u001b[0mrandn\u001b[0m\u001b[1;33m\u001b[0m\u001b[0m\n\u001b[0m\u001b[0;32m     13\u001b[0m         \u001b[1;32mreturn\u001b[0m \u001b[0mvariance\u001b[0m\u001b[1;33m\u001b[0m\u001b[0m\n\u001b[0;32m     14\u001b[0m \u001b[1;33m\u001b[0m\u001b[0m\n",
      "\u001b[1;31mValueError\u001b[0m: math domain error"
     ]
    }
   ],
   "source": [
    "price_call_option(heston, spot=100.0, strike=100.0, maturity=5.0, num_steps=10, num_paths=10000)"
   ]
  },
  {
   "cell_type": "markdown",
   "metadata": {},
   "source": [
    "We get an error - math domain error. This probably is caused by the fact that the variance becomes negative. What we will do is fix the problem, and measure how often it occurs by keeping track of the occurence of negative variances in a member variable. We will use the \"absorption\" fix."
   ]
  },
  {
   "cell_type": "code",
   "execution_count": 76,
   "metadata": {
    "collapsed": true
   },
   "outputs": [],
   "source": [
    "class Heston_Absorption(Heston):\n",
    "    def __init__(self, mu, kappa, theta, omega, rho, initial_variance):\n",
    "        super().__init__(mu, kappa, theta, omega, rho, initial_variance)\n",
    "        self.number_of_negative_variances = 0\n",
    "    \n",
    "    def _simulate_variance_next_step(self, var_prev, dt, randn):\n",
    "        if var_prev > 0.0:\n",
    "            self.number_of_negative_variances = self.number_of_negative_variances + 1\n",
    "        var_prev_adjusted = max(var_prev, 0.0)\n",
    "        tmp = self.kappa * dt\n",
    "        variance = (1.0 - tmp) * var_prev_adjusted + tmp * self.theta + self.omega * math.sqrt(var_prev_adjusted * dt) * randn\n",
    "        return max(variance, 0.0)"
   ]
  },
  {
   "cell_type": "markdown",
   "metadata": {},
   "source": [
    "Let us now define this implementation of the Heston absorption scheme and initialise our counting variable:"
   ]
  },
  {
   "cell_type": "code",
   "execution_count": 77,
   "metadata": {
    "collapsed": true
   },
   "outputs": [],
   "source": [
    "heston_abs = Heston_Absorption(mu=0.05, kappa=2.0, omega=1.0, rho=-0.3, theta=0.09, initial_variance=0.09)"
   ]
  },
  {
   "cell_type": "markdown",
   "metadata": {},
   "source": [
    "We can price the call option in a similar way:"
   ]
  },
  {
   "cell_type": "code",
   "execution_count": 78,
   "metadata": {},
   "outputs": [
    {
     "data": {
      "text/plain": [
       "(53.333336787183896, 1.2846382676509487)"
      ]
     },
     "execution_count": 78,
     "metadata": {},
     "output_type": "execute_result"
    }
   ],
   "source": [
    "price_call_option(model=heston_abs, spot=100.0, strike=100.0, maturity=5.0, num_steps=10, num_paths=10000)"
   ]
  },
  {
   "cell_type": "markdown",
   "metadata": {},
   "source": [
    "We have stored the number of occurrences of a negative variance in a global variable - that, divided by the number of paths and the number of timesteps, tells us what percentage of time the variance has to be \"fixed\"."
   ]
  },
  {
   "cell_type": "code",
   "execution_count": null,
   "metadata": {
    "collapsed": true
   },
   "outputs": [],
   "source": [
    "heston_abs.number_of_negative_variances / (10 * 10000)"
   ]
  },
  {
   "cell_type": "markdown",
   "metadata": {},
   "source": [
    "**Q:** Please adapt the implementation to get it to work - you can use one of the schemes initially considered in the slides - i.e. absorption or reflection. The benchmark price for this option is 44.94063."
   ]
  },
  {
   "cell_type": "markdown",
   "metadata": {},
   "source": [
    "**A:** We have just done this. We are quite far from the benchmark price though. Increasing the number of timesteps obviously helps:"
   ]
  },
  {
   "cell_type": "code",
   "execution_count": null,
   "metadata": {
    "collapsed": true
   },
   "outputs": [],
   "source": [
    "price_call_option(model=heston_abs, spot=100.0, strike=100.0, maturity=5.0, num_steps=100, num_paths=100000)"
   ]
  },
  {
   "cell_type": "markdown",
   "metadata": {},
   "source": [
    "Even with 100 timesteps we are still quite far from the true price - but luckily the above result matches the reference biases produced for this example (the SV-I example) from the Lord, Koekkoek and Van Dijk paper (http://www.rogerlord.com/biasedsv.pdf). The only difference is that we don't discount the price here."
   ]
  },
  {
   "cell_type": "markdown",
   "metadata": {},
   "source": [
    "**Q:** Once you have got it to work - try to adapt your implementation to use the full truncation scheme and compare it to the scheme you used previously. How does it perform in comparison?"
   ]
  },
  {
   "cell_type": "markdown",
   "metadata": {},
   "source": [
    "**A:** The full truncation implementation is given below - as you can see we do not simply set the variance to zero when it is negative, but allow it to remain negative. Only in the drift and diffusion parts to we use a truncated version."
   ]
  },
  {
   "cell_type": "code",
   "execution_count": null,
   "metadata": {
    "collapsed": true
   },
   "outputs": [],
   "source": [
    "class Heston_Full_Truncation(Heston):\n",
    "    def _simulate_variance_next_step(self, var_prev, dt, randn):\n",
    "        var_prev_adjusted = max(var_prev, 0.0)\n",
    "        tmp = self.kappa * dt\n",
    "        variance = var_prev - tmp * (var_prev_adjusted - self.theta) + self.omega * math.sqrt(var_prev_adjusted * dt) * randn\n",
    "        return variance\n",
    "    \n",
    "    def _simulate_log_asset_next_step(self, log_asset_prev, var_prev, dt, randn):\n",
    "        var_prev_adjusted = max(var_prev, 0.0)\n",
    "        increment = (self.mu - 0.5 * var_prev_adjusted) * dt + math.sqrt(var_prev_adjusted * dt) * randn\n",
    "        return log_asset_prev + increment"
   ]
  },
  {
   "cell_type": "code",
   "execution_count": null,
   "metadata": {
    "collapsed": true
   },
   "outputs": [],
   "source": [
    "heston_ft = Heston_Full_Truncation(mu=0.05, kappa=2.0, omega=1.0, rho=-0.3, theta=0.09, initial_variance=0.09)\n",
    "price_call_option(model=heston_ft, spot=100.0, strike=100.0, maturity=5.0, num_steps=100, num_paths=100000)"
   ]
  },
  {
   "cell_type": "markdown",
   "metadata": {},
   "source": [
    "**A:** The above answer is already much more in line with the benchmark price we supplied earlier (44.94), and - depending on your particular draws of random numbers - probably already statistically indistinguishable from the benchmark price."
   ]
  },
  {
   "cell_type": "markdown",
   "metadata": {},
   "source": [
    "**Q:** Can you measure the \"leaking correlation\" problem in this Euler discretisation? How far is the correlation between the log-asset increment and the variance increment from what it should be?"
   ]
  },
  {
   "cell_type": "markdown",
   "metadata": {},
   "source": [
    "**A:** What we will do is the following - we will keep track of the simulated variances and stock values in an internal dataframe, so that we can run this analysis after the simulation."
   ]
  },
  {
   "cell_type": "code",
   "execution_count": 73,
   "metadata": {
    "collapsed": true
   },
   "outputs": [],
   "source": [
    "class Heston_Full_Truncation_With_Correlation_Measurement(Heston_Full_Truncation):  \n",
    "    def __init__(self, mu, kappa, theta, omega, rho, initial_variance):\n",
    "        super().__init__(mu, kappa, theta, omega, rho, initial_variance)\n",
    "\n",
    "        self.num_paths = 0\n",
    "        self.avg_correlation = 0.0\n",
    "        self._clear_statistics()\n",
    "    \n",
    "    def _clear_statistics(self):\n",
    "        self.log_asset_incr_first_mom = 0.0\n",
    "        self.log_asset_incr_second_mom = 0.0\n",
    "        self.var_incr_first_mom = 0.0\n",
    "        self.var_incr_second_mom = 0.0\n",
    "        self.cross_first_mom = 0.0\n",
    "        \n",
    "    def _update_statistics(self, asset_incr, var_incr, num_steps):\n",
    "        self.log_asset_incr_first_mom = self.log_asset_incr_first_mom + 1.0 / num_steps * asset_incr\n",
    "        self.log_asset_incr_second_mom = self.log_asset_incr_second_mom + 1.0 / num_steps * asset_incr * asset_incr\n",
    "        self.var_incr_first_mom = self.var_incr_first_mom + 1.0 / num_steps * var_incr\n",
    "        self.var_incr_second_mom = self.var_incr_second_mom + 1.0 / num_steps * var_incr * var_incr\n",
    "        self.cross_first_mom = self.cross_first_mom + 1.0 / num_steps * asset_incr * var_incr\n",
    "        \n",
    "    def _calculate_correlation(self):\n",
    "        self.num_paths = self.num_paths + 1\n",
    "        asset_incr_stdev = math.sqrt(self.log_asset_incr_second_mom - self.log_asset_incr_first_mom * self.log_asset_incr_first_mom)\n",
    "        var_incr_stdev = math.sqrt(self.var_incr_second_mom - self.var_incr_first_mom * self.var_incr_first_mom)\n",
    "        cov = self.cross_first_mom - self.log_asset_incr_first_mom * self.var_incr_first_mom\n",
    "        return cov / (asset_incr_stdev * var_incr_stdev)\n",
    "    \n",
    "    def simulate_stock(self, spot, maturity, num_steps):\n",
    "        self._clear_statistics()\n",
    "        \n",
    "        dt = maturity / num_steps\n",
    "        var_prev = self.initial_variance\n",
    "        log_asset_prev = math.log(spot)\n",
    "        for i in range(num_steps):\n",
    "            randn_vol = sc.randn()\n",
    "            randn_spot = self.rho * randn_vol + math.sqrt(1.0 - self.rho * self.rho) * sc.randn()\n",
    "            var_next = self._simulate_variance_next_step(var_prev, dt, randn_vol)\n",
    "            log_asset_next = self._simulate_log_asset_next_step(log_asset_prev, var_prev, dt, randn_spot)\n",
    "            self._update_statistics(log_asset_next - log_asset_prev, var_next - var_prev, num_steps)\n",
    "            log_asset_prev = log_asset_next\n",
    "            var_prev = var_next\n",
    "        \n",
    "        # Here we calculate the correlation for the current path, between the increments of the log_asset and the variance\n",
    "        corr = self._calculate_correlation()\n",
    "        \n",
    "        # We also keep track of the average over all simulated paths thus far.\n",
    "        self.avg_correlation = (self.avg_correlation * (self.num_paths - 1) + corr) / self.num_paths\n",
    "        \n",
    "        return math.exp(log_asset_next)"
   ]
  },
  {
   "cell_type": "markdown",
   "metadata": {},
   "source": [
    "Now we run the same code again:"
   ]
  },
  {
   "cell_type": "code",
   "execution_count": 74,
   "metadata": {},
   "outputs": [
    {
     "data": {
      "text/plain": [
       "(45.028786870199589, 0.23447892908633103)"
      ]
     },
     "execution_count": 74,
     "metadata": {},
     "output_type": "execute_result"
    }
   ],
   "source": [
    "heston_ft = Heston_Full_Truncation_With_Correlation_Measurement(mu=0.05, kappa=2.0, omega=1.0, rho=-0.3, theta=0.09, initial_variance=0.09)\n",
    "price_call_option(model=heston_ft, spot=100.0, strike=100.0, maturity=5.0, num_steps=100, num_paths=100000)"
   ]
  },
  {
   "cell_type": "markdown",
   "metadata": {},
   "source": [
    "The average correlation can be accessed as follows:"
   ]
  },
  {
   "cell_type": "code",
   "execution_count": 75,
   "metadata": {},
   "outputs": [
    {
     "data": {
      "text/plain": [
       "-0.2821394775860415"
      ]
     },
     "execution_count": 75,
     "metadata": {},
     "output_type": "execute_result"
    }
   ],
   "source": [
    "heston_ft.avg_correlation"
   ]
  },
  {
   "cell_type": "markdown",
   "metadata": {},
   "source": [
    "As we can see, the average correlation is here quite close to -30%, as expected - there is virtually no bias left. However, had we used a much smaller amount of timesteps, we would have witnessed \"leaking correlation\":"
   ]
  },
  {
   "cell_type": "code",
   "execution_count": 57,
   "metadata": {},
   "outputs": [
    {
     "data": {
      "text/plain": [
       "-0.05208783424429148"
      ]
     },
     "execution_count": 57,
     "metadata": {},
     "output_type": "execute_result"
    }
   ],
   "source": [
    "heston_ft = Heston_Full_Truncation(mu=0.05, kappa=2.0, omega=1.0, rho=-0.3, theta=0.09, initial_variance=0.09)\n",
    "price_call_option(model=heston_ft, spot=100.0, strike=100.0, maturity=5.0, num_steps=5, num_paths=100000)\n",
    "heston_ft.avg_correlation"
   ]
  }
 ],
 "metadata": {
  "kernelspec": {
   "display_name": "Python 3",
   "language": "python",
   "name": "python3"
  },
  "language_info": {
   "codemirror_mode": {
    "name": "ipython",
    "version": 3
   },
   "file_extension": ".py",
   "mimetype": "text/x-python",
   "name": "python",
   "nbconvert_exporter": "python",
   "pygments_lexer": "ipython3",
   "version": "3.6.3"
  }
 },
 "nbformat": 4,
 "nbformat_minor": 2
}
